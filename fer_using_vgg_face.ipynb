{
  "metadata": {
    "kernelspec": {
      "language": "python",
      "display_name": "Python 3",
      "name": "python3"
    },
    "language_info": {
      "name": "python",
      "version": "3.7.9",
      "mimetype": "text/x-python",
      "codemirror_mode": {
        "name": "ipython",
        "version": 3
      },
      "pygments_lexer": "ipython3",
      "nbconvert_exporter": "python",
      "file_extension": ".py"
    },
    "colab": {
      "name": "fer-using-vgg-face.ipynb",
      "provenance": [],
      "include_colab_link": true
    }
  },
  "nbformat_minor": 0,
  "nbformat": 4,
  "cells": [
    {
      "cell_type": "markdown",
      "metadata": {
        "id": "view-in-github",
        "colab_type": "text"
      },
      "source": [
        "<a href=\"https://colab.research.google.com/github/vpavankalyan/FER/blob/main/fer_using_vgg_face.ipynb\" target=\"_parent\"><img src=\"https://colab.research.google.com/assets/colab-badge.svg\" alt=\"Open In Colab\"/></a>"
      ]
    },
    {
      "cell_type": "code",
      "source": [
        "!pip install keras_applications"
      ],
      "metadata": {
        "execution": {
          "iopub.status.busy": "2021-06-26T06:41:59.288414Z",
          "iopub.execute_input": "2021-06-26T06:41:59.288811Z",
          "iopub.status.idle": "2021-06-26T06:42:06.636110Z",
          "shell.execute_reply.started": "2021-06-26T06:41:59.288730Z",
          "shell.execute_reply": "2021-06-26T06:42:06.635273Z"
        },
        "trusted": true,
        "id": "m6fLQ1RU6pN1",
        "outputId": "bd34e9de-a4bf-4cca-d140-fd856f5cefaf"
      },
      "execution_count": null,
      "outputs": [
        {
          "name": "stdout",
          "text": "Collecting keras_applications\n  Downloading Keras_Applications-1.0.8-py3-none-any.whl (50 kB)\n\u001b[K     |████████████████████████████████| 50 kB 1.6 MB/s eta 0:00:011\n\u001b[?25hRequirement already satisfied: h5py in /opt/conda/lib/python3.7/site-packages (from keras_applications) (2.10.0)\nRequirement already satisfied: numpy>=1.9.1 in /opt/conda/lib/python3.7/site-packages (from keras_applications) (1.19.5)\nRequirement already satisfied: six in /opt/conda/lib/python3.7/site-packages (from h5py->keras_applications) (1.15.0)\nInstalling collected packages: keras-applications\nSuccessfully installed keras-applications-1.0.8\n",
          "output_type": "stream"
        }
      ]
    },
    {
      "cell_type": "code",
      "source": [
        "!pip install keras_vggface"
      ],
      "metadata": {
        "execution": {
          "iopub.status.busy": "2021-06-26T06:44:01.463219Z",
          "iopub.execute_input": "2021-06-26T06:44:01.463595Z",
          "iopub.status.idle": "2021-06-26T06:44:07.496594Z",
          "shell.execute_reply.started": "2021-06-26T06:44:01.463550Z",
          "shell.execute_reply": "2021-06-26T06:44:07.495723Z"
        },
        "trusted": true,
        "id": "6JF0zdHm6pN6",
        "outputId": "5b38ef70-3d91-4be0-dbef-8966e269368a"
      },
      "execution_count": null,
      "outputs": [
        {
          "name": "stdout",
          "text": "Collecting keras_vggface\n  Downloading keras_vggface-0.6-py3-none-any.whl (8.3 kB)\nRequirement already satisfied: scipy>=0.14 in /opt/conda/lib/python3.7/site-packages (from keras_vggface) (1.5.4)\nRequirement already satisfied: pyyaml in /opt/conda/lib/python3.7/site-packages (from keras_vggface) (5.3.1)\nRequirement already satisfied: six>=1.9.0 in /opt/conda/lib/python3.7/site-packages (from keras_vggface) (1.15.0)\nRequirement already satisfied: numpy>=1.9.1 in /opt/conda/lib/python3.7/site-packages (from keras_vggface) (1.19.5)\nRequirement already satisfied: pillow in /opt/conda/lib/python3.7/site-packages (from keras_vggface) (7.2.0)\nRequirement already satisfied: keras in /opt/conda/lib/python3.7/site-packages (from keras_vggface) (2.4.3)\nRequirement already satisfied: h5py in /opt/conda/lib/python3.7/site-packages (from keras_vggface) (2.10.0)\nInstalling collected packages: keras-vggface\nSuccessfully installed keras-vggface-0.6\n",
          "output_type": "stream"
        }
      ]
    },
    {
      "cell_type": "code",
      "source": [
        "from keras_vggface.vggface import VGGFace"
      ],
      "metadata": {
        "trusted": true,
        "id": "CCPXxCvN6pN7"
      },
      "execution_count": null,
      "outputs": []
    },
    {
      "cell_type": "code",
      "source": [
        "image_size=224\n",
        "vgg_conv = VGGFace(weights='vggface', include_top=False, input_shape=(image_size, image_size, 3))"
      ],
      "metadata": {
        "execution": {
          "iopub.status.busy": "2021-06-26T06:44:18.385804Z",
          "iopub.execute_input": "2021-06-26T06:44:18.386115Z",
          "iopub.status.idle": "2021-06-26T06:44:22.534654Z",
          "shell.execute_reply.started": "2021-06-26T06:44:18.386088Z",
          "shell.execute_reply": "2021-06-26T06:44:22.533519Z"
        },
        "trusted": true,
        "id": "-nFPbj1h6pN7",
        "outputId": "9d00ed89-0ea0-4427-e6bb-16911e993fd2"
      },
      "execution_count": null,
      "outputs": [
        {
          "name": "stdout",
          "text": "Downloading data from https://github.com/rcmalli/keras-vggface/releases/download/v2.0/rcmalli_vggface_tf_notop_vgg16.h5\n58916864/58909280 [==============================] - 1s 0us/step\n",
          "output_type": "stream"
        }
      ]
    },
    {
      "cell_type": "code",
      "source": [
        "for layer in vgg_conv.layers:\n",
        "    layer.trainable = False"
      ],
      "metadata": {
        "execution": {
          "iopub.status.busy": "2021-06-26T06:44:25.381857Z",
          "iopub.execute_input": "2021-06-26T06:44:25.382182Z",
          "iopub.status.idle": "2021-06-26T06:44:25.387172Z",
          "shell.execute_reply.started": "2021-06-26T06:44:25.382154Z",
          "shell.execute_reply": "2021-06-26T06:44:25.385961Z"
        },
        "trusted": true,
        "id": "myzIJ1tM6pN8"
      },
      "execution_count": null,
      "outputs": []
    },
    {
      "cell_type": "code",
      "source": [
        "from keras import models\n",
        "from keras import layers\n",
        "from keras import optimizers\n",
        " \n",
        "# Create the model\n",
        "model = models.Sequential()\n",
        " \n",
        "# Add the vgg convolutional base model\n",
        "model.add(vgg_conv)\n",
        " \n",
        "# Add new layers\n",
        "model.add(layers.Flatten())\n",
        "model.add(layers.Dense(512, activation='relu'))\n",
        "model.add(layers.Dropout(0.5))\n",
        "model.add(layers.Dense(64, activation='relu'))\n",
        "\n",
        "model.add(layers.Dense(7, activation='softmax'))"
      ],
      "metadata": {
        "execution": {
          "iopub.status.busy": "2021-06-26T06:44:29.503489Z",
          "iopub.execute_input": "2021-06-26T06:44:29.503849Z",
          "iopub.status.idle": "2021-06-26T06:44:29.586606Z",
          "shell.execute_reply.started": "2021-06-26T06:44:29.503820Z",
          "shell.execute_reply": "2021-06-26T06:44:29.585791Z"
        },
        "trusted": true,
        "id": "BimUX4XH6pN8"
      },
      "execution_count": null,
      "outputs": []
    },
    {
      "cell_type": "code",
      "source": [
        "from keras.preprocessing.image import ImageDataGenerator\n",
        "image_gen = ImageDataGenerator(rotation_range=30, # rotate the image 30 degrees\n",
        "                               width_shift_range=0.1, # Shift the pic width by a max of 10%\n",
        "                               height_shift_range=0.1, # Shift the pic height by a max of 10%\n",
        "                               rescale=1/255, # Rescale the image by normalzing it.\n",
        "                               shear_range=0.2, # Shear means cutting away part of the image (max 20%)\n",
        "                               zoom_range=0.2, # Zoom in by 20% max\n",
        "                               horizontal_flip=True, # Allo horizontal flipping\n",
        "                               fill_mode='nearest' # Fill in missing pixels with the nearest filled value\n",
        "                              )"
      ],
      "metadata": {
        "execution": {
          "iopub.status.busy": "2021-06-26T06:44:34.725071Z",
          "iopub.execute_input": "2021-06-26T06:44:34.725389Z",
          "iopub.status.idle": "2021-06-26T06:44:34.731598Z",
          "shell.execute_reply.started": "2021-06-26T06:44:34.725360Z",
          "shell.execute_reply": "2021-06-26T06:44:34.730670Z"
        },
        "trusted": true,
        "id": "BN3u0vN36pN9"
      },
      "execution_count": null,
      "outputs": []
    },
    {
      "cell_type": "code",
      "source": [
        "train_generator = image_gen.flow_from_directory('../input/face-expression-recognition-dataset/images/train',\n",
        "        target_size=(image_size, image_size),\n",
        "        batch_size=80,\n",
        "        class_mode='categorical')"
      ],
      "metadata": {
        "execution": {
          "iopub.status.busy": "2021-06-26T06:44:38.069166Z",
          "iopub.execute_input": "2021-06-26T06:44:38.069474Z",
          "iopub.status.idle": "2021-06-26T06:44:39.713743Z",
          "shell.execute_reply.started": "2021-06-26T06:44:38.069447Z",
          "shell.execute_reply": "2021-06-26T06:44:39.712863Z"
        },
        "trusted": true,
        "id": "mP-9UB6Y6pN-",
        "outputId": "d8759b6a-aeb9-4ff4-cad7-65bc3ab7481e"
      },
      "execution_count": null,
      "outputs": [
        {
          "name": "stdout",
          "text": "Found 28821 images belonging to 7 classes.\n",
          "output_type": "stream"
        }
      ]
    },
    {
      "cell_type": "code",
      "source": [
        "validation_generator = image_gen.flow_from_directory('../input/face-expression-recognition-dataset/images/validation',\n",
        "        target_size=(image_size, image_size),\n",
        "        batch_size=30,\n",
        "        class_mode='categorical',\n",
        "        shuffle=False)"
      ],
      "metadata": {
        "execution": {
          "iopub.status.busy": "2021-06-26T06:44:41.162893Z",
          "iopub.execute_input": "2021-06-26T06:44:41.163216Z",
          "iopub.status.idle": "2021-06-26T06:44:41.609975Z",
          "shell.execute_reply.started": "2021-06-26T06:44:41.163186Z",
          "shell.execute_reply": "2021-06-26T06:44:41.609031Z"
        },
        "trusted": true,
        "id": "7JveTpcC6pN-",
        "outputId": "922d6a29-c00e-42b1-a727-2ea180861a65"
      },
      "execution_count": null,
      "outputs": [
        {
          "name": "stdout",
          "text": "Found 7066 images belonging to 7 classes.\n",
          "output_type": "stream"
        }
      ]
    },
    {
      "cell_type": "code",
      "source": [
        "model.compile(loss='categorical_crossentropy',\n",
        "              optimizer=optimizers.RMSprop(learning_rate=0.0005),\n",
        "              metrics=['acc'])"
      ],
      "metadata": {
        "execution": {
          "iopub.status.busy": "2021-06-26T06:44:45.811558Z",
          "iopub.execute_input": "2021-06-26T06:44:45.811921Z",
          "iopub.status.idle": "2021-06-26T06:44:45.830039Z",
          "shell.execute_reply.started": "2021-06-26T06:44:45.811890Z",
          "shell.execute_reply": "2021-06-26T06:44:45.829088Z"
        },
        "trusted": true,
        "id": "U5UJ6C6z6pN_"
      },
      "execution_count": null,
      "outputs": []
    },
    {
      "cell_type": "code",
      "source": [
        "model.fit(\n",
        "      train_generator,\n",
        "      steps_per_epoch=train_generator.samples/train_generator.batch_size ,\n",
        "      epochs=15,\n",
        "      validation_data=validation_generator,\n",
        "      validation_steps=validation_generator.samples/validation_generator.batch_size)"
      ],
      "metadata": {
        "execution": {
          "iopub.status.busy": "2021-06-26T06:44:49.728485Z",
          "iopub.execute_input": "2021-06-26T06:44:49.728840Z",
          "iopub.status.idle": "2021-06-26T10:23:20.184076Z",
          "shell.execute_reply.started": "2021-06-26T06:44:49.728808Z",
          "shell.execute_reply": "2021-06-26T10:23:20.183161Z"
        },
        "trusted": true,
        "id": "Dmb7efks6pN_",
        "outputId": "b1381f0c-8bad-4d58-b9bb-98bf72224124"
      },
      "execution_count": null,
      "outputs": [
        {
          "name": "stdout",
          "text": "Epoch 1/30\n360/360 [==============================] - 657s 2s/step - loss: 1.4814 - acc: 0.4258 - val_loss: 1.1819 - val_acc: 0.5587\nEpoch 2/30\n360/360 [==============================] - 446s 1s/step - loss: 1.2222 - acc: 0.5393 - val_loss: 1.1331 - val_acc: 0.5753\nEpoch 3/30\n360/360 [==============================] - 457s 1s/step - loss: 1.1595 - acc: 0.5690 - val_loss: 1.1289 - val_acc: 0.5839\nEpoch 4/30\n360/360 [==============================] - 462s 1s/step - loss: 1.1379 - acc: 0.5749 - val_loss: 1.1188 - val_acc: 0.5838\nEpoch 5/30\n360/360 [==============================] - 440s 1s/step - loss: 1.1164 - acc: 0.5873 - val_loss: 1.0696 - val_acc: 0.6035\nEpoch 6/30\n360/360 [==============================] - 424s 1s/step - loss: 1.0918 - acc: 0.5959 - val_loss: 1.0795 - val_acc: 0.5982\nEpoch 7/30\n360/360 [==============================] - 426s 1s/step - loss: 1.0828 - acc: 0.5960 - val_loss: 1.0711 - val_acc: 0.6070\nEpoch 8/30\n360/360 [==============================] - 425s 1s/step - loss: 1.0697 - acc: 0.6013 - val_loss: 1.0430 - val_acc: 0.6105\nEpoch 9/30\n360/360 [==============================] - 423s 1s/step - loss: 1.0575 - acc: 0.6049 - val_loss: 1.0421 - val_acc: 0.6135\nEpoch 10/30\n360/360 [==============================] - 424s 1s/step - loss: 1.0373 - acc: 0.6110 - val_loss: 1.0588 - val_acc: 0.6052\nEpoch 11/30\n360/360 [==============================] - 423s 1s/step - loss: 1.0307 - acc: 0.6105 - val_loss: 1.0348 - val_acc: 0.6162\nEpoch 12/30\n360/360 [==============================] - 425s 1s/step - loss: 1.0264 - acc: 0.6163 - val_loss: 1.0418 - val_acc: 0.6142\nEpoch 13/30\n360/360 [==============================] - 422s 1s/step - loss: 1.0049 - acc: 0.6227 - val_loss: 1.0314 - val_acc: 0.6170\nEpoch 14/30\n360/360 [==============================] - 433s 1s/step - loss: 1.0164 - acc: 0.6242 - val_loss: 1.0404 - val_acc: 0.6149\nEpoch 15/30\n360/360 [==============================] - 432s 1s/step - loss: 0.9994 - acc: 0.6244 - val_loss: 1.0221 - val_acc: 0.6274\nEpoch 16/30\n360/360 [==============================] - 427s 1s/step - loss: 0.9948 - acc: 0.6322 - val_loss: 1.0075 - val_acc: 0.6238\nEpoch 17/30\n360/360 [==============================] - 422s 1s/step - loss: 0.9923 - acc: 0.6308 - val_loss: 1.0204 - val_acc: 0.6169\nEpoch 18/30\n360/360 [==============================] - 421s 1s/step - loss: 0.9886 - acc: 0.6330 - val_loss: 1.0155 - val_acc: 0.6296\nEpoch 19/30\n360/360 [==============================] - 421s 1s/step - loss: 0.9862 - acc: 0.6387 - val_loss: 1.0236 - val_acc: 0.6231\nEpoch 20/30\n360/360 [==============================] - 421s 1s/step - loss: 0.9788 - acc: 0.6401 - val_loss: 1.0100 - val_acc: 0.6313\nEpoch 21/30\n360/360 [==============================] - 428s 1s/step - loss: 0.9732 - acc: 0.6366 - val_loss: 1.0191 - val_acc: 0.6323\nEpoch 22/30\n360/360 [==============================] - 428s 1s/step - loss: 0.9751 - acc: 0.6414 - val_loss: 1.0151 - val_acc: 0.6265\nEpoch 23/30\n360/360 [==============================] - 424s 1s/step - loss: 0.9605 - acc: 0.6457 - val_loss: 1.0155 - val_acc: 0.6327\nEpoch 24/30\n360/360 [==============================] - 421s 1s/step - loss: 0.9572 - acc: 0.6520 - val_loss: 1.0092 - val_acc: 0.6278\nEpoch 25/30\n360/360 [==============================] - 422s 1s/step - loss: 0.9598 - acc: 0.6464 - val_loss: 1.0063 - val_acc: 0.6353\nEpoch 26/30\n360/360 [==============================] - 458s 1s/step - loss: 0.9439 - acc: 0.6460 - val_loss: 1.0068 - val_acc: 0.6302\nEpoch 27/30\n360/360 [==============================] - 425s 1s/step - loss: 0.9439 - acc: 0.6548 - val_loss: 0.9912 - val_acc: 0.6319\nEpoch 28/30\n360/360 [==============================] - 422s 1s/step - loss: 0.9511 - acc: 0.6461 - val_loss: 1.0057 - val_acc: 0.6327\nEpoch 29/30\n360/360 [==============================] - 423s 1s/step - loss: 0.9302 - acc: 0.6574 - val_loss: 1.0253 - val_acc: 0.6265\nEpoch 30/30\n360/360 [==============================] - 425s 1s/step - loss: 0.9253 - acc: 0.6606 - val_loss: 1.0102 - val_acc: 0.6402\n",
          "output_type": "stream"
        },
        {
          "execution_count": 13,
          "output_type": "execute_result",
          "data": {
            "text/plain": "<tensorflow.python.keras.callbacks.History at 0x7f653025e650>"
          },
          "metadata": {}
        }
      ]
    },
    {
      "cell_type": "code",
      "source": [
        "model.save(\"vgg_face1.h5\")"
      ],
      "metadata": {
        "execution": {
          "iopub.status.busy": "2021-06-26T10:33:43.145798Z",
          "iopub.execute_input": "2021-06-26T10:33:43.146269Z",
          "iopub.status.idle": "2021-06-26T10:33:43.499342Z",
          "shell.execute_reply.started": "2021-06-26T10:33:43.146221Z",
          "shell.execute_reply": "2021-06-26T10:33:43.498512Z"
        },
        "trusted": true,
        "id": "lJ9RjXk86pN_"
      },
      "execution_count": null,
      "outputs": []
    }
  ]
}